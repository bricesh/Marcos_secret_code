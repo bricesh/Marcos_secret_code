import matplotlib.pyplot as plt
from matplotlib.patches import Ellipse
%matplotlib inline

mush_p1 = Ellipse(xy=[5,3.75], width=2.1, height=1.2, angle=1.0*360)
mush_p2 = Ellipse(xy=[5,5], width=3.2, height=3.2, angle=1.0*360)
mush_p3 = Ellipse(xy=[4.7,3.9], width=0.4, height=0.2, angle=0.25*360)
mush_p4 = Ellipse(xy=[5.3,3.9], width=0.4, height=0.2, angle=0.25*360)
mush_p5 = Ellipse(xy=[5,5.6], width=1.5, height=1.5, angle=1.0*360)
mush_p6 = Ellipse(xy=[3.3,5], width=1.3, height=1.3, angle=1.0*360)
mush_p7 = Ellipse(xy=[6.7,5], width=1.3, height=1.3, angle=1.0*360)
circle1 = plt.Circle((5, 5), 1.6, fill = False, edgecolor='black')

fig = plt.figure(0)
ax = fig.add_subplot(111, aspect='equal')

# Place
ax.add_artist(mush_p2)
ax.add_artist(mush_p5)
ax.add_artist(mush_p6)
ax.add_artist(mush_p7)
ax.add_artist(circle1)
ax.add_artist(mush_p1)
ax.add_artist(mush_p3)
ax.add_artist(mush_p4)

# Colour
mush_p1.set_facecolor([247/255.0, 228/255.0, 212/255.0])
mush_p2.set_facecolor([29/255.0, 242/255.0, 9/255.0])
mush_p3.set_facecolor([0, 0, 0])
mush_p4.set_facecolor([0, 0, 0])
mush_p5.set_facecolor([1, 1, 1])
mush_p6.set_facecolor([1, 1, 1])
mush_p7.set_facecolor([1, 1, 1])

ax.set_xlim(2, 8)
ax.set_ylim(2, 8)

plt.show()
